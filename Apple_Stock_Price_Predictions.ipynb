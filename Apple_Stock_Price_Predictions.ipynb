{
  "cells": [
    {
      "cell_type": "markdown",
      "metadata": {
        "id": "view-in-github",
        "colab_type": "text"
      },
      "source": [
        "<a href=\"https://colab.research.google.com/github/Virum9520/Stock-Price-Prediction-AAPL/blob/main/Apple_Stock_Price_Predictions.ipynb\" target=\"_parent\"><img src=\"https://colab.research.google.com/assets/colab-badge.svg\" alt=\"Open In Colab\"/></a>"
      ]
    },
    {
      "cell_type": "markdown",
      "metadata": {
        "id": "ujJ_w4DBUn_u"
      },
      "source": [
        "# Stock Market prediction (AAPL) and Forecasting Using Stacked LSTM"
      ]
    },
    {
      "cell_type": "code",
      "execution_count": null,
      "metadata": {
        "id": "z-g8jELsUn_y"
      },
      "outputs": [],
      "source": [
        "import pandas_datareader as pdr"
      ]
    },
    {
      "cell_type": "code",
      "execution_count": null,
      "metadata": {
        "id": "3ADDB1uDUn_z"
      },
      "outputs": [],
      "source": [
        "#Data Collection\n",
        "df = pdr.get_data_tiingo('AAPL',api_key='7628c05ec7ce1efebce46b59c5f9e06c7ed0c9f8')"
      ]
    },
    {
      "cell_type": "code",
      "execution_count": null,
      "metadata": {
        "id": "miRLUBz-Un_0"
      },
      "outputs": [],
      "source": [
        "df.to_csv('AAPL.csv')"
      ]
    },
    {
      "cell_type": "code",
      "execution_count": null,
      "metadata": {
        "id": "VmxogpyhUn_0",
        "outputId": "0d0093a4-d360-4e42-8f3c-2a07656fb6a2"
      },
      "outputs": [
        {
          "data": {
            "text/html": [
              "<div>\n",
              "<style scoped>\n",
              "    .dataframe tbody tr th:only-of-type {\n",
              "        vertical-align: middle;\n",
              "    }\n",
              "\n",
              "    .dataframe tbody tr th {\n",
              "        vertical-align: top;\n",
              "    }\n",
              "\n",
              "    .dataframe thead th {\n",
              "        text-align: right;\n",
              "    }\n",
              "</style>\n",
              "<table border=\"1\" class=\"dataframe\">\n",
              "  <thead>\n",
              "    <tr style=\"text-align: right;\">\n",
              "      <th></th>\n",
              "      <th></th>\n",
              "      <th>close</th>\n",
              "      <th>high</th>\n",
              "      <th>low</th>\n",
              "      <th>open</th>\n",
              "      <th>volume</th>\n",
              "      <th>adjClose</th>\n",
              "      <th>adjHigh</th>\n",
              "      <th>adjLow</th>\n",
              "      <th>adjOpen</th>\n",
              "      <th>adjVolume</th>\n",
              "      <th>divCash</th>\n",
              "      <th>splitFactor</th>\n",
              "    </tr>\n",
              "    <tr>\n",
              "      <th>symbol</th>\n",
              "      <th>date</th>\n",
              "      <th></th>\n",
              "      <th></th>\n",
              "      <th></th>\n",
              "      <th></th>\n",
              "      <th></th>\n",
              "      <th></th>\n",
              "      <th></th>\n",
              "      <th></th>\n",
              "      <th></th>\n",
              "      <th></th>\n",
              "      <th></th>\n",
              "      <th></th>\n",
              "    </tr>\n",
              "  </thead>\n",
              "  <tbody>\n",
              "    <tr>\n",
              "      <th rowspan=\"5\" valign=\"top\">AAPL</th>\n",
              "      <th>2018-09-24 00:00:00+00:00</th>\n",
              "      <td>220.79</td>\n",
              "      <td>221.26</td>\n",
              "      <td>216.63</td>\n",
              "      <td>216.82</td>\n",
              "      <td>27693358</td>\n",
              "      <td>52.860624</td>\n",
              "      <td>52.973150</td>\n",
              "      <td>51.864654</td>\n",
              "      <td>51.910143</td>\n",
              "      <td>110773432</td>\n",
              "      <td>0.0</td>\n",
              "      <td>1.0</td>\n",
              "    </tr>\n",
              "    <tr>\n",
              "      <th>2018-09-25 00:00:00+00:00</th>\n",
              "      <td>222.19</td>\n",
              "      <td>222.82</td>\n",
              "      <td>219.70</td>\n",
              "      <td>219.75</td>\n",
              "      <td>24554379</td>\n",
              "      <td>53.195807</td>\n",
              "      <td>53.346639</td>\n",
              "      <td>52.599661</td>\n",
              "      <td>52.611632</td>\n",
              "      <td>98217516</td>\n",
              "      <td>0.0</td>\n",
              "      <td>1.0</td>\n",
              "    </tr>\n",
              "    <tr>\n",
              "      <th>2018-09-26 00:00:00+00:00</th>\n",
              "      <td>220.42</td>\n",
              "      <td>223.75</td>\n",
              "      <td>219.76</td>\n",
              "      <td>221.00</td>\n",
              "      <td>23984706</td>\n",
              "      <td>52.772040</td>\n",
              "      <td>53.569295</td>\n",
              "      <td>52.614026</td>\n",
              "      <td>52.910902</td>\n",
              "      <td>95938824</td>\n",
              "      <td>0.0</td>\n",
              "      <td>1.0</td>\n",
              "    </tr>\n",
              "    <tr>\n",
              "      <th>2018-09-27 00:00:00+00:00</th>\n",
              "      <td>224.95</td>\n",
              "      <td>226.44</td>\n",
              "      <td>223.54</td>\n",
              "      <td>223.82</td>\n",
              "      <td>30181227</td>\n",
              "      <td>53.856594</td>\n",
              "      <td>54.213324</td>\n",
              "      <td>53.519018</td>\n",
              "      <td>53.586054</td>\n",
              "      <td>120724908</td>\n",
              "      <td>0.0</td>\n",
              "      <td>1.0</td>\n",
              "    </tr>\n",
              "    <tr>\n",
              "      <th>2018-09-28 00:00:00+00:00</th>\n",
              "      <td>225.74</td>\n",
              "      <td>225.84</td>\n",
              "      <td>224.02</td>\n",
              "      <td>224.79</td>\n",
              "      <td>22929364</td>\n",
              "      <td>54.045733</td>\n",
              "      <td>54.069674</td>\n",
              "      <td>53.633938</td>\n",
              "      <td>53.818288</td>\n",
              "      <td>91717456</td>\n",
              "      <td>0.0</td>\n",
              "      <td>1.0</td>\n",
              "    </tr>\n",
              "  </tbody>\n",
              "</table>\n",
              "</div>"
            ],
            "text/plain": [
              "                                   close    high     low    open    volume  \\\n",
              "symbol date                                                                  \n",
              "AAPL   2018-09-24 00:00:00+00:00  220.79  221.26  216.63  216.82  27693358   \n",
              "       2018-09-25 00:00:00+00:00  222.19  222.82  219.70  219.75  24554379   \n",
              "       2018-09-26 00:00:00+00:00  220.42  223.75  219.76  221.00  23984706   \n",
              "       2018-09-27 00:00:00+00:00  224.95  226.44  223.54  223.82  30181227   \n",
              "       2018-09-28 00:00:00+00:00  225.74  225.84  224.02  224.79  22929364   \n",
              "\n",
              "                                   adjClose    adjHigh     adjLow    adjOpen  \\\n",
              "symbol date                                                                    \n",
              "AAPL   2018-09-24 00:00:00+00:00  52.860624  52.973150  51.864654  51.910143   \n",
              "       2018-09-25 00:00:00+00:00  53.195807  53.346639  52.599661  52.611632   \n",
              "       2018-09-26 00:00:00+00:00  52.772040  53.569295  52.614026  52.910902   \n",
              "       2018-09-27 00:00:00+00:00  53.856594  54.213324  53.519018  53.586054   \n",
              "       2018-09-28 00:00:00+00:00  54.045733  54.069674  53.633938  53.818288   \n",
              "\n",
              "                                  adjVolume  divCash  splitFactor  \n",
              "symbol date                                                        \n",
              "AAPL   2018-09-24 00:00:00+00:00  110773432      0.0          1.0  \n",
              "       2018-09-25 00:00:00+00:00   98217516      0.0          1.0  \n",
              "       2018-09-26 00:00:00+00:00   95938824      0.0          1.0  \n",
              "       2018-09-27 00:00:00+00:00  120724908      0.0          1.0  \n",
              "       2018-09-28 00:00:00+00:00   91717456      0.0          1.0  "
            ]
          },
          "execution_count": 123,
          "metadata": {},
          "output_type": "execute_result"
        }
      ],
      "source": [
        "df.head()"
      ]
    },
    {
      "cell_type": "code",
      "execution_count": null,
      "metadata": {
        "id": "UnApuSWrUn_1",
        "outputId": "838c8489-a968-4990-cbc7-7faba9d81ef9"
      },
      "outputs": [
        {
          "data": {
            "text/html": [
              "<div>\n",
              "<style scoped>\n",
              "    .dataframe tbody tr th:only-of-type {\n",
              "        vertical-align: middle;\n",
              "    }\n",
              "\n",
              "    .dataframe tbody tr th {\n",
              "        vertical-align: top;\n",
              "    }\n",
              "\n",
              "    .dataframe thead th {\n",
              "        text-align: right;\n",
              "    }\n",
              "</style>\n",
              "<table border=\"1\" class=\"dataframe\">\n",
              "  <thead>\n",
              "    <tr style=\"text-align: right;\">\n",
              "      <th></th>\n",
              "      <th></th>\n",
              "      <th>close</th>\n",
              "      <th>high</th>\n",
              "      <th>low</th>\n",
              "      <th>open</th>\n",
              "      <th>volume</th>\n",
              "      <th>adjClose</th>\n",
              "      <th>adjHigh</th>\n",
              "      <th>adjLow</th>\n",
              "      <th>adjOpen</th>\n",
              "      <th>adjVolume</th>\n",
              "      <th>divCash</th>\n",
              "      <th>splitFactor</th>\n",
              "    </tr>\n",
              "    <tr>\n",
              "      <th>symbol</th>\n",
              "      <th>date</th>\n",
              "      <th></th>\n",
              "      <th></th>\n",
              "      <th></th>\n",
              "      <th></th>\n",
              "      <th></th>\n",
              "      <th></th>\n",
              "      <th></th>\n",
              "      <th></th>\n",
              "      <th></th>\n",
              "      <th></th>\n",
              "      <th></th>\n",
              "      <th></th>\n",
              "    </tr>\n",
              "  </thead>\n",
              "  <tbody>\n",
              "    <tr>\n",
              "      <th rowspan=\"5\" valign=\"top\">AAPL</th>\n",
              "      <th>2023-09-14 00:00:00+00:00</th>\n",
              "      <td>175.74</td>\n",
              "      <td>176.100</td>\n",
              "      <td>173.58</td>\n",
              "      <td>174.00</td>\n",
              "      <td>60895757</td>\n",
              "      <td>175.74</td>\n",
              "      <td>176.100</td>\n",
              "      <td>173.58</td>\n",
              "      <td>174.00</td>\n",
              "      <td>60895757</td>\n",
              "      <td>0.0</td>\n",
              "      <td>1.0</td>\n",
              "    </tr>\n",
              "    <tr>\n",
              "      <th>2023-09-15 00:00:00+00:00</th>\n",
              "      <td>175.01</td>\n",
              "      <td>176.495</td>\n",
              "      <td>173.82</td>\n",
              "      <td>176.48</td>\n",
              "      <td>109259461</td>\n",
              "      <td>175.01</td>\n",
              "      <td>176.495</td>\n",
              "      <td>173.82</td>\n",
              "      <td>176.48</td>\n",
              "      <td>109259461</td>\n",
              "      <td>0.0</td>\n",
              "      <td>1.0</td>\n",
              "    </tr>\n",
              "    <tr>\n",
              "      <th>2023-09-18 00:00:00+00:00</th>\n",
              "      <td>177.97</td>\n",
              "      <td>179.380</td>\n",
              "      <td>176.17</td>\n",
              "      <td>176.48</td>\n",
              "      <td>67257573</td>\n",
              "      <td>177.97</td>\n",
              "      <td>179.380</td>\n",
              "      <td>176.17</td>\n",
              "      <td>176.48</td>\n",
              "      <td>67257573</td>\n",
              "      <td>0.0</td>\n",
              "      <td>1.0</td>\n",
              "    </tr>\n",
              "    <tr>\n",
              "      <th>2023-09-19 00:00:00+00:00</th>\n",
              "      <td>179.07</td>\n",
              "      <td>179.630</td>\n",
              "      <td>177.13</td>\n",
              "      <td>177.52</td>\n",
              "      <td>51826941</td>\n",
              "      <td>179.07</td>\n",
              "      <td>179.630</td>\n",
              "      <td>177.13</td>\n",
              "      <td>177.52</td>\n",
              "      <td>51826941</td>\n",
              "      <td>0.0</td>\n",
              "      <td>1.0</td>\n",
              "    </tr>\n",
              "    <tr>\n",
              "      <th>2023-09-20 00:00:00+00:00</th>\n",
              "      <td>175.49</td>\n",
              "      <td>179.695</td>\n",
              "      <td>175.40</td>\n",
              "      <td>179.26</td>\n",
              "      <td>58436181</td>\n",
              "      <td>175.49</td>\n",
              "      <td>179.695</td>\n",
              "      <td>175.40</td>\n",
              "      <td>179.26</td>\n",
              "      <td>58436181</td>\n",
              "      <td>0.0</td>\n",
              "      <td>1.0</td>\n",
              "    </tr>\n",
              "  </tbody>\n",
              "</table>\n",
              "</div>"
            ],
            "text/plain": [
              "                                   close     high     low    open     volume  \\\n",
              "symbol date                                                                    \n",
              "AAPL   2023-09-14 00:00:00+00:00  175.74  176.100  173.58  174.00   60895757   \n",
              "       2023-09-15 00:00:00+00:00  175.01  176.495  173.82  176.48  109259461   \n",
              "       2023-09-18 00:00:00+00:00  177.97  179.380  176.17  176.48   67257573   \n",
              "       2023-09-19 00:00:00+00:00  179.07  179.630  177.13  177.52   51826941   \n",
              "       2023-09-20 00:00:00+00:00  175.49  179.695  175.40  179.26   58436181   \n",
              "\n",
              "                                  adjClose  adjHigh  adjLow  adjOpen  \\\n",
              "symbol date                                                            \n",
              "AAPL   2023-09-14 00:00:00+00:00    175.74  176.100  173.58   174.00   \n",
              "       2023-09-15 00:00:00+00:00    175.01  176.495  173.82   176.48   \n",
              "       2023-09-18 00:00:00+00:00    177.97  179.380  176.17   176.48   \n",
              "       2023-09-19 00:00:00+00:00    179.07  179.630  177.13   177.52   \n",
              "       2023-09-20 00:00:00+00:00    175.49  179.695  175.40   179.26   \n",
              "\n",
              "                                  adjVolume  divCash  splitFactor  \n",
              "symbol date                                                        \n",
              "AAPL   2023-09-14 00:00:00+00:00   60895757      0.0          1.0  \n",
              "       2023-09-15 00:00:00+00:00  109259461      0.0          1.0  \n",
              "       2023-09-18 00:00:00+00:00   67257573      0.0          1.0  \n",
              "       2023-09-19 00:00:00+00:00   51826941      0.0          1.0  \n",
              "       2023-09-20 00:00:00+00:00   58436181      0.0          1.0  "
            ]
          },
          "execution_count": 124,
          "metadata": {},
          "output_type": "execute_result"
        }
      ],
      "source": [
        "df.tail()"
      ]
    },
    {
      "cell_type": "code",
      "execution_count": null,
      "metadata": {
        "id": "kgdqoWEqUn_1"
      },
      "outputs": [],
      "source": [
        "df['Index']= [i for i in range(len(df))]"
      ]
    },
    {
      "cell_type": "code",
      "execution_count": null,
      "metadata": {
        "id": "R26F0jbqUn_2"
      },
      "outputs": [],
      "source": [
        "df1 = df.set_index(['Index'])['close']"
      ]
    },
    {
      "cell_type": "code",
      "execution_count": null,
      "metadata": {
        "id": "scCLgX0JUn_2",
        "outputId": "2f1437ff-84f9-402b-e168-5ccbd8323442"
      },
      "outputs": [
        {
          "data": {
            "text/plain": [
              "Index\n",
              "0    220.79\n",
              "1    222.19\n",
              "2    220.42\n",
              "3    224.95\n",
              "4    225.74\n",
              "Name: close, dtype: float64"
            ]
          },
          "execution_count": 127,
          "metadata": {},
          "output_type": "execute_result"
        }
      ],
      "source": [
        "df1.head()"
      ]
    },
    {
      "cell_type": "code",
      "execution_count": null,
      "metadata": {
        "id": "_JHAl1ySUn_2",
        "outputId": "d0a6fbae-b1de-4154-f181-e40482cf01a8"
      },
      "outputs": [
        {
          "data": {
            "text/plain": [
              "(1256,)"
            ]
          },
          "execution_count": 128,
          "metadata": {},
          "output_type": "execute_result"
        }
      ],
      "source": [
        "df1.shape"
      ]
    },
    {
      "cell_type": "code",
      "execution_count": null,
      "metadata": {
        "id": "H0O4dVlKUn_2"
      },
      "outputs": [],
      "source": [
        "import matplotlib.pyplot as plt"
      ]
    },
    {
      "cell_type": "code",
      "execution_count": null,
      "metadata": {
        "id": "Gildnt5XUn_3",
        "outputId": "7b6434b4-02ee-4c03-d1cb-1cdab3c79a3f"
      },
      "outputs": [
        {
          "data": {
            "text/plain": [
              "Text(0, 0.5, 'USD-$')"
            ]
          },
          "execution_count": 130,
          "metadata": {},
          "output_type": "execute_result"
        },
        {
          "data": {
            "image/png": "[encoded data removed]",
            "text/plain": [
              "<Figure size 1000x700 with 1 Axes>"
            ]
          },
          "metadata": {},
          "output_type": "display_data"
        }
      ],
      "source": [
        "plt.figure(figsize=(10,7))\n",
        "plt.plot(df1,color='green')\n",
        "plt.ylabel('USD-$')\n"
      ]
    },
    {
      "cell_type": "markdown",
      "metadata": {
        "id": "UU-jJsXPUn_3"
      },
      "source": [
        "### Use MinMax Normalization as the given data as LSTM are scale sensitive"
      ]
    },
    {
      "cell_type": "code",
      "execution_count": null,
      "metadata": {
        "id": "OIVzKqwhUn_3"
      },
      "outputs": [],
      "source": [
        "import numpy as np\n",
        "from sklearn.preprocessing import MinMaxScaler"
      ]
    },
    {
      "cell_type": "code",
      "execution_count": null,
      "metadata": {
        "id": "l2SqhoodUn_4"
      },
      "outputs": [],
      "source": [
        "scaler = MinMaxScaler(feature_range=(0,1))\n",
        "df1 = scaler.fit_transform(np.array(df1).reshape(-1,1))"
      ]
    },
    {
      "cell_type": "markdown",
      "metadata": {
        "id": "ioTGzgtaUn_4"
      },
      "source": [
        "# Train Test Split"
      ]
    },
    {
      "cell_type": "code",
      "execution_count": null,
      "metadata": {
        "id": "DyGiSeMnUn_4"
      },
      "outputs": [],
      "source": [
        "# Time series data may have sequential dependence\n",
        "\n",
        "train_size = int(len(df1)*0.65)\n",
        "test_size = len(df1)-train_size\n",
        "\n",
        "train_data, test_data = df1[0:train_size,:], df1[train_size:len(df1),:1]"
      ]
    },
    {
      "cell_type": "code",
      "execution_count": null,
      "metadata": {
        "id": "kaeNx_mzUn_4",
        "outputId": "0063056c-cb0d-482b-d939-4d92087dd9ae"
      },
      "outputs": [
        {
          "data": {
            "text/plain": [
              "(816, 440)"
            ]
          },
          "execution_count": 134,
          "metadata": {},
          "output_type": "execute_result"
        }
      ],
      "source": [
        "train_size,test_size"
      ]
    },
    {
      "cell_type": "markdown",
      "metadata": {
        "id": "_JYuS5MZUn_5"
      },
      "source": [
        "### Function to create training and testing data"
      ]
    },
    {
      "cell_type": "code",
      "execution_count": null,
      "metadata": {
        "id": "bC_UrbqaUn_5"
      },
      "outputs": [],
      "source": [
        "def create_dataset(dataset, time_step=1):\n",
        "\tdataX, dataY = [], []\n",
        "\tfor i in range(len(dataset)-time_step-1):\n",
        "\t\ta = dataset[i:(i+time_step), 0]\n",
        "\t\tdataX.append(a)\n",
        "\t\tdataY.append(dataset[i + time_step, 0])\n",
        "\treturn np.array(dataX), np.array(dataY)"
      ]
    },
    {
      "cell_type": "code",
      "execution_count": null,
      "metadata": {
        "id": "g8wXSXmaUn_5"
      },
      "outputs": [],
      "source": [
        "time_step = 100\n",
        "X_train, y_train = create_dataset(train_data, time_step)\n",
        "X_test, y_test = create_dataset(test_data, time_step)"
      ]
    },
    {
      "cell_type": "code",
      "execution_count": null,
      "metadata": {
        "id": "XdPqvmxVUn_5",
        "outputId": "321b650b-ea80-432e-8237-5ebb48b90039"
      },
      "outputs": [
        {
          "name": "stdout",
          "output_type": "stream",
          "text": [
            "(715, 100) (715,)\n"
          ]
        }
      ],
      "source": [
        "print(X_train.shape,y_train.shape)"
      ]
    },
    {
      "cell_type": "markdown",
      "metadata": {
        "id": "8dfmjb5VUn_6"
      },
      "source": [
        "### Reshape input to be [samples, time steps, features] which is required for LSTM"
      ]
    },
    {
      "cell_type": "code",
      "execution_count": null,
      "metadata": {
        "id": "AVP4uVR1Un_6"
      },
      "outputs": [],
      "source": [
        "X_train =X_train.reshape(X_train.shape[0],X_train.shape[1] , 1)\n",
        "X_test = X_test.reshape(X_test.shape[0],X_test.shape[1] , 1)"
      ]
    },
    {
      "cell_type": "markdown",
      "metadata": {
        "id": "HgmrgyCHUn_6"
      },
      "source": [
        "# Create Stacked LSTM Model"
      ]
    },
    {
      "cell_type": "code",
      "execution_count": null,
      "metadata": {
        "id": "kt9nljZKUn_6"
      },
      "outputs": [],
      "source": [
        "from keras.models import Sequential\n",
        "from keras.layers import Dense, LSTM\n"
      ]
    },
    {
      "cell_type": "code",
      "execution_count": null,
      "metadata": {
        "id": "QaYZFS8_Un_6"
      },
      "outputs": [],
      "source": [
        "model = Sequential()\n",
        "model.add(LSTM(50, return_sequences=True,input_shape=(100,1)))\n",
        "model.add(LSTM(50, return_sequences=True))\n",
        "model.add(LSTM(50))\n",
        "model.add(Dense(1,activation='sigmoid',))\n",
        "model.compile(loss='mean_squared_error',optimizer='adam')"
      ]
    },
    {
      "cell_type": "code",
      "execution_count": null,
      "metadata": {
        "id": "YTznRh3RUn_6",
        "outputId": "64ec8826-ab38-4831-996c-3b148498a6ed"
      },
      "outputs": [
        {
          "name": "stdout",
          "output_type": "stream",
          "text": [
            "Model: \"sequential_2\"\n",
            "_________________________________________________________________\n",
            " Layer (type)                Output Shape              Param #   \n",
            "=================================================================\n",
            " lstm_6 (LSTM)               (None, 100, 50)           10400     \n",
            "                                                                 \n",
            " lstm_7 (LSTM)               (None, 100, 50)           20200     \n",
            "                                                                 \n",
            " lstm_8 (LSTM)               (None, 50)                20200     \n",
            "                                                                 \n",
            " dense_2 (Dense)             (None, 1)                 51        \n",
            "                                                                 \n",
            "=================================================================\n",
            "Total params: 50851 (198.64 KB)\n",
            "Trainable params: 50851 (198.64 KB)\n",
            "Non-trainable params: 0 (0.00 Byte)\n",
            "_________________________________________________________________\n"
          ]
        }
      ],
      "source": [
        "model.summary()"
      ]
    },
    {
      "cell_type": "code",
      "execution_count": null,
      "metadata": {
        "id": "PEY2zwXJUn_7",
        "outputId": "3c4f3ecb-2626-4fa1-ce24-e58945616ae2"
      },
      "outputs": [
        {
          "name": "stdout",
          "output_type": "stream",
          "text": [
            "Epoch 1/100\n",
            "12/12 [==============================] - 5s 148ms/step - loss: 0.0895 - val_loss: 0.0128\n",
            "Epoch 2/100\n",
            "12/12 [==============================] - 1s 85ms/step - loss: 0.0453 - val_loss: 0.0173\n",
            "Epoch 3/100\n",
            "12/12 [==============================] - 1s 81ms/step - loss: 0.0236 - val_loss: 0.0011\n",
            "Epoch 4/100\n",
            "12/12 [==============================] - 1s 79ms/step - loss: 0.0131 - val_loss: 7.2850e-04\n",
            "Epoch 5/100\n",
            "12/12 [==============================] - 1s 80ms/step - loss: 0.0111 - val_loss: 9.8437e-04\n",
            "Epoch 6/100\n",
            "12/12 [==============================] - 1s 80ms/step - loss: 0.0098 - val_loss: 5.7365e-04\n",
            "Epoch 7/100\n",
            "12/12 [==============================] - 1s 79ms/step - loss: 0.0090 - val_loss: 7.3000e-04\n",
            "Epoch 8/100\n",
            "12/12 [==============================] - 1s 80ms/step - loss: 0.0080 - val_loss: 4.0826e-04\n",
            "Epoch 9/100\n",
            "12/12 [==============================] - 1s 83ms/step - loss: 0.0080 - val_loss: 4.4139e-04\n",
            "Epoch 10/100\n",
            "12/12 [==============================] - 1s 83ms/step - loss: 0.0068 - val_loss: 0.0028\n",
            "Epoch 11/100\n",
            "12/12 [==============================] - 1s 82ms/step - loss: 0.0063 - val_loss: 6.9366e-04\n",
            "Epoch 12/100\n",
            "12/12 [==============================] - 1s 82ms/step - loss: 0.0055 - val_loss: 7.4002e-04\n",
            "Epoch 13/100\n",
            "12/12 [==============================] - 1s 82ms/step - loss: 0.0061 - val_loss: 6.6713e-04\n",
            "Epoch 14/100\n",
            "12/12 [==============================] - 1s 81ms/step - loss: 0.0048 - val_loss: 0.0017\n",
            "Epoch 15/100\n",
            "12/12 [==============================] - 1s 82ms/step - loss: 0.0043 - val_loss: 3.4886e-04\n",
            "Epoch 16/100\n",
            "12/12 [==============================] - 1s 82ms/step - loss: 0.0038 - val_loss: 7.3546e-04\n",
            "Epoch 17/100\n",
            "12/12 [==============================] - 1s 82ms/step - loss: 0.0040 - val_loss: 3.7370e-04\n",
            "Epoch 18/100\n",
            "12/12 [==============================] - 1s 85ms/step - loss: 0.0036 - val_loss: 6.5664e-04\n",
            "Epoch 19/100\n",
            "12/12 [==============================] - 1s 82ms/step - loss: 0.0037 - val_loss: 4.1242e-04\n",
            "Epoch 20/100\n",
            "12/12 [==============================] - 1s 82ms/step - loss: 0.0032 - val_loss: 6.9078e-04\n",
            "Epoch 21/100\n",
            "12/12 [==============================] - 1s 81ms/step - loss: 0.0028 - val_loss: 3.3359e-04\n",
            "Epoch 22/100\n",
            "12/12 [==============================] - 1s 85ms/step - loss: 0.0025 - val_loss: 3.3226e-04\n",
            "Epoch 23/100\n",
            "12/12 [==============================] - 1s 85ms/step - loss: 0.0024 - val_loss: 3.7042e-04\n",
            "Epoch 24/100\n",
            "12/12 [==============================] - 1s 83ms/step - loss: 0.0022 - val_loss: 3.8267e-04\n",
            "Epoch 25/100\n",
            "12/12 [==============================] - 1s 83ms/step - loss: 0.0018 - val_loss: 3.9685e-04\n",
            "Epoch 26/100\n",
            "12/12 [==============================] - 1s 83ms/step - loss: 0.0016 - val_loss: 4.2413e-04\n",
            "Epoch 27/100\n",
            "12/12 [==============================] - 1s 84ms/step - loss: 0.0061 - val_loss: 9.2087e-04\n",
            "Epoch 28/100\n",
            "12/12 [==============================] - 1s 81ms/step - loss: 0.0051 - val_loss: 5.1102e-04\n",
            "Epoch 29/100\n",
            "12/12 [==============================] - 1s 85ms/step - loss: 0.0046 - val_loss: 3.7826e-04\n",
            "Epoch 30/100\n",
            "12/12 [==============================] - 1s 84ms/step - loss: 0.0040 - val_loss: 5.0422e-04\n",
            "Epoch 31/100\n",
            "12/12 [==============================] - 1s 83ms/step - loss: 0.0036 - val_loss: 3.1652e-04\n",
            "Epoch 32/100\n",
            "12/12 [==============================] - 1s 83ms/step - loss: 0.0032 - val_loss: 3.1087e-04\n",
            "Epoch 33/100\n",
            "12/12 [==============================] - 1s 83ms/step - loss: 0.0035 - val_loss: 9.9059e-04\n",
            "Epoch 34/100\n",
            "12/12 [==============================] - 1s 84ms/step - loss: 0.0044 - val_loss: 7.1095e-04\n",
            "Epoch 35/100\n",
            "12/12 [==============================] - 1s 84ms/step - loss: 0.0039 - val_loss: 3.2561e-04\n",
            "Epoch 36/100\n",
            "12/12 [==============================] - 1s 81ms/step - loss: 0.0045 - val_loss: 0.0033\n",
            "Epoch 37/100\n",
            "12/12 [==============================] - 1s 83ms/step - loss: 0.0037 - val_loss: 3.9408e-04\n",
            "Epoch 38/100\n",
            "12/12 [==============================] - 1s 81ms/step - loss: 0.0027 - val_loss: 2.9943e-04\n",
            "Epoch 39/100\n",
            "12/12 [==============================] - 1s 83ms/step - loss: 0.0028 - val_loss: 0.0010\n",
            "Epoch 40/100\n",
            "12/12 [==============================] - 1s 83ms/step - loss: 0.0029 - val_loss: 3.3177e-04\n",
            "Epoch 41/100\n",
            "12/12 [==============================] - 1s 83ms/step - loss: 0.0037 - val_loss: 9.3475e-04\n",
            "Epoch 42/100\n",
            "12/12 [==============================] - 1s 83ms/step - loss: 0.0034 - val_loss: 4.3310e-04\n",
            "Epoch 43/100\n",
            "12/12 [==============================] - 1s 83ms/step - loss: 0.0027 - val_loss: 3.1724e-04\n",
            "Epoch 44/100\n",
            "12/12 [==============================] - 1s 85ms/step - loss: 0.0023 - val_loss: 3.0303e-04\n",
            "Epoch 45/100\n",
            "12/12 [==============================] - 1s 82ms/step - loss: 0.0022 - val_loss: 3.6931e-04\n",
            "Epoch 46/100\n",
            "12/12 [==============================] - 1s 82ms/step - loss: 0.0040 - val_loss: 0.0026\n",
            "Epoch 47/100\n",
            "12/12 [==============================] - 1s 83ms/step - loss: 0.0040 - val_loss: 4.9820e-04\n",
            "Epoch 48/100\n",
            "12/12 [==============================] - 1s 86ms/step - loss: 0.0038 - val_loss: 6.5692e-04\n",
            "Epoch 49/100\n",
            "12/12 [==============================] - 1s 89ms/step - loss: 0.0057 - val_loss: 0.0011\n",
            "Epoch 50/100\n",
            "12/12 [==============================] - 1s 86ms/step - loss: 0.0042 - val_loss: 3.4544e-04\n",
            "Epoch 51/100\n",
            "12/12 [==============================] - 1s 84ms/step - loss: 0.0032 - val_loss: 3.6085e-04\n",
            "Epoch 52/100\n",
            "12/12 [==============================] - 1s 84ms/step - loss: 0.0030 - val_loss: 3.0473e-04\n",
            "Epoch 53/100\n",
            "12/12 [==============================] - 1s 86ms/step - loss: 0.0027 - val_loss: 3.3408e-04\n",
            "Epoch 54/100\n",
            "12/12 [==============================] - 1s 84ms/step - loss: 0.0025 - val_loss: 2.8917e-04\n",
            "Epoch 55/100\n",
            "12/12 [==============================] - 1s 86ms/step - loss: 0.0028 - val_loss: 2.9159e-04\n",
            "Epoch 56/100\n",
            "12/12 [==============================] - 1s 86ms/step - loss: 0.0025 - val_loss: 2.9055e-04\n",
            "Epoch 57/100\n",
            "12/12 [==============================] - 1s 85ms/step - loss: 0.0024 - val_loss: 3.0854e-04\n",
            "Epoch 58/100\n",
            "12/12 [==============================] - 1s 84ms/step - loss: 0.0027 - val_loss: 3.5765e-04\n",
            "Epoch 59/100\n",
            "12/12 [==============================] - 1s 85ms/step - loss: 0.0019 - val_loss: 3.3634e-04\n",
            "Epoch 60/100\n",
            "12/12 [==============================] - 1s 85ms/step - loss: 0.0021 - val_loss: 3.1766e-04\n",
            "Epoch 61/100\n",
            "12/12 [==============================] - 1s 84ms/step - loss: 0.0021 - val_loss: 3.5546e-04\n",
            "Epoch 62/100\n",
            "12/12 [==============================] - 1s 87ms/step - loss: 0.0021 - val_loss: 3.6370e-04\n",
            "Epoch 63/100\n",
            "12/12 [==============================] - 1s 85ms/step - loss: 0.0023 - val_loss: 7.9301e-04\n",
            "Epoch 64/100\n",
            "12/12 [==============================] - 1s 84ms/step - loss: 0.0020 - val_loss: 4.6057e-04\n",
            "Epoch 65/100\n",
            "12/12 [==============================] - 1s 84ms/step - loss: 0.0023 - val_loss: 3.5478e-04\n",
            "Epoch 66/100\n",
            "12/12 [==============================] - 1s 83ms/step - loss: 0.0016 - val_loss: 3.1618e-04\n",
            "Epoch 67/100\n",
            "12/12 [==============================] - 1s 83ms/step - loss: 0.0020 - val_loss: 3.8039e-04\n",
            "Epoch 68/100\n",
            "12/12 [==============================] - 1s 83ms/step - loss: 0.0020 - val_loss: 3.9696e-04\n",
            "Epoch 69/100\n",
            "12/12 [==============================] - 1s 83ms/step - loss: 0.0016 - val_loss: 8.2096e-04\n",
            "Epoch 70/100\n",
            "12/12 [==============================] - 1s 83ms/step - loss: 0.0020 - val_loss: 3.4381e-04\n",
            "Epoch 71/100\n",
            "12/12 [==============================] - 1s 83ms/step - loss: 0.0015 - val_loss: 3.6047e-04\n",
            "Epoch 72/100\n",
            "12/12 [==============================] - 1s 83ms/step - loss: 0.0016 - val_loss: 3.7076e-04\n",
            "Epoch 73/100\n",
            "12/12 [==============================] - 1s 81ms/step - loss: 0.0013 - val_loss: 3.4296e-04\n",
            "Epoch 74/100\n",
            "12/12 [==============================] - 1s 82ms/step - loss: 0.0022 - val_loss: 8.2782e-04\n",
            "Epoch 75/100\n",
            "12/12 [==============================] - 1s 84ms/step - loss: 0.0023 - val_loss: 3.0975e-04\n",
            "Epoch 76/100\n",
            "12/12 [==============================] - 1s 83ms/step - loss: 0.0015 - val_loss: 7.7773e-04\n",
            "Epoch 77/100\n",
            "12/12 [==============================] - 1s 84ms/step - loss: 0.0015 - val_loss: 5.2213e-04\n",
            "Epoch 78/100\n",
            "12/12 [==============================] - 1s 83ms/step - loss: 0.0020 - val_loss: 3.6727e-04\n",
            "Epoch 79/100\n",
            "12/12 [==============================] - 1s 87ms/step - loss: 0.0017 - val_loss: 4.0540e-04\n",
            "Epoch 80/100\n",
            "12/12 [==============================] - 1s 82ms/step - loss: 0.0013 - val_loss: 3.2561e-04\n",
            "Epoch 81/100\n",
            "12/12 [==============================] - 1s 83ms/step - loss: 0.0013 - val_loss: 3.4687e-04\n",
            "Epoch 82/100\n",
            "12/12 [==============================] - 1s 85ms/step - loss: 0.0016 - val_loss: 3.1229e-04\n",
            "Epoch 83/100\n",
            "12/12 [==============================] - 1s 83ms/step - loss: 0.0018 - val_loss: 5.5413e-04\n",
            "Epoch 84/100\n",
            "12/12 [==============================] - 1s 84ms/step - loss: 0.0014 - val_loss: 3.2164e-04\n",
            "Epoch 85/100\n",
            "12/12 [==============================] - 1s 82ms/step - loss: 0.0013 - val_loss: 3.9691e-04\n",
            "Epoch 86/100\n",
            "12/12 [==============================] - 1s 81ms/step - loss: 0.0021 - val_loss: 8.1594e-04\n",
            "Epoch 87/100\n",
            "12/12 [==============================] - 1s 82ms/step - loss: 0.0013 - val_loss: 7.4565e-04\n",
            "Epoch 88/100\n",
            "12/12 [==============================] - 1s 82ms/step - loss: 0.0016 - val_loss: 8.6186e-04\n",
            "Epoch 89/100\n",
            "12/12 [==============================] - 1s 90ms/step - loss: 0.0018 - val_loss: 9.9059e-04\n",
            "Epoch 90/100\n",
            "12/12 [==============================] - 1s 82ms/step - loss: 0.0023 - val_loss: 3.7779e-04\n",
            "Epoch 91/100\n",
            "12/12 [==============================] - 1s 84ms/step - loss: 0.0011 - val_loss: 4.0805e-04\n",
            "Epoch 92/100\n",
            "12/12 [==============================] - 1s 82ms/step - loss: 0.0014 - val_loss: 3.4235e-04\n",
            "Epoch 93/100\n",
            "12/12 [==============================] - 1s 81ms/step - loss: 0.0012 - val_loss: 4.5986e-04\n",
            "Epoch 94/100\n",
            "12/12 [==============================] - 1s 83ms/step - loss: 0.0037 - val_loss: 3.3875e-04\n",
            "Epoch 95/100\n",
            "12/12 [==============================] - 1s 82ms/step - loss: 0.0019 - val_loss: 3.7804e-04\n",
            "Epoch 96/100\n",
            "12/12 [==============================] - 1s 81ms/step - loss: 0.0022 - val_loss: 4.8020e-04\n",
            "Epoch 97/100\n",
            "12/12 [==============================] - 1s 82ms/step - loss: 0.0020 - val_loss: 3.6641e-04\n",
            "Epoch 98/100\n",
            "12/12 [==============================] - 1s 84ms/step - loss: 0.0016 - val_loss: 4.1410e-04\n",
            "Epoch 99/100\n",
            "12/12 [==============================] - 1s 83ms/step - loss: 0.0016 - val_loss: 4.9135e-04\n",
            "Epoch 100/100\n",
            "12/12 [==============================] - 1s 83ms/step - loss: 0.0014 - val_loss: 3.1388e-04\n"
          ]
        },
        {
          "data": {
            "text/plain": [
              "<keras.src.callbacks.History at 0x2aaed1950>"
            ]
          },
          "execution_count": 142,
          "metadata": {},
          "output_type": "execute_result"
        }
      ],
      "source": [
        "model.fit(X_train,y_train, validation_data=(X_test,y_test), epochs=100, batch_size=64)"
      ]
    },
    {
      "cell_type": "code",
      "execution_count": null,
      "metadata": {
        "id": "7OqoLsVcUn_7",
        "outputId": "0461ddc6-ea07-4e34-d6d3-c54588b8f86a"
      },
      "outputs": [
        {
          "name": "stdout",
          "output_type": "stream",
          "text": [
            "23/23 [==============================] - 1s 13ms/step\n",
            "11/11 [==============================] - 0s 13ms/step\n"
          ]
        }
      ],
      "source": [
        "train_predict=model.predict(X_train)\n",
        "test_predict=model.predict(X_test)"
      ]
    },
    {
      "cell_type": "code",
      "execution_count": null,
      "metadata": {
        "id": "X6vKMUFIUn_7"
      },
      "outputs": [],
      "source": [
        "train_predict=scaler.inverse_transform(train_predict)\n",
        "test_predict=scaler.inverse_transform(test_predict)"
      ]
    },
    {
      "cell_type": "code",
      "execution_count": null,
      "metadata": {
        "id": "oJ_aHRTqUn_7",
        "outputId": "ff1af88d-c6b1-4a24-d558-8212e68d6ee8"
      },
      "outputs": [
        {
          "data": {
            "text/plain": [
              "220.07954092766832"
            ]
          },
          "execution_count": 145,
          "metadata": {},
          "output_type": "execute_result"
        }
      ],
      "source": [
        "import math\n",
        "from sklearn.metrics import mean_squared_error\n",
        "math.sqrt(mean_squared_error(y_train,train_predict))"
      ]
    },
    {
      "cell_type": "code",
      "execution_count": null,
      "metadata": {
        "id": "o25MNgoyUn_8",
        "outputId": "baf15ee8-12e2-47c1-a589-a9ff3f810ff1"
      },
      "outputs": [
        {
          "data": {
            "text/plain": [
              "160.67575057945413"
            ]
          },
          "execution_count": 146,
          "metadata": {},
          "output_type": "execute_result"
        }
      ],
      "source": [
        "math.sqrt(mean_squared_error(ytest,test_predict))"
      ]
    },
    {
      "cell_type": "code",
      "execution_count": null,
      "metadata": {
        "id": "K017P7-BUn_8",
        "outputId": "4c54bcd2-b59e-448b-d150-60d31b474ebc"
      },
      "outputs": [
        {
          "data": {
            "image/png": "[encoded data removed]",
            "text/plain": [
              "<Figure size 1000x700 with 1 Axes>"
            ]
          },
          "metadata": {},
          "output_type": "display_data"
        }
      ],
      "source": [
        "step_size=100\n",
        "trainPredictPlot = np.empty_like(df1)\n",
        "trainPredictPlot[:, :] = np.nan\n",
        "trainPredictPlot[step_size:len(train_predict)+step_size, :] = train_predict\n",
        "\n",
        "testPredictPlot = np.empty_like(df1)\n",
        "testPredictPlot[:, :] = np.nan\n",
        "testPredictPlot[len(train_predict)+(step_size*2)+1:len(df1)-1, :] = test_predict\n",
        "\n",
        "plt.figure(figsize=(10,7))\n",
        "plt.plot(scaler.inverse_transform(df1))\n",
        "plt.plot(trainPredictPlot)\n",
        "plt.plot(testPredictPlot)\n",
        "plt.show()"
      ]
    },
    {
      "cell_type": "code",
      "execution_count": null,
      "metadata": {
        "id": "FEA0MyPWUn_9",
        "outputId": "31ccefb7-be3a-4f9b-ba78-8aa5f70d9468"
      },
      "outputs": [
        {
          "data": {
            "text/plain": [
              "440"
            ]
          },
          "execution_count": 148,
          "metadata": {},
          "output_type": "execute_result"
        }
      ],
      "source": [
        "len(test_data)"
      ]
    },
    {
      "cell_type": "code",
      "execution_count": null,
      "metadata": {
        "id": "oPW5taT2Un_9",
        "outputId": "8b6f0f63-3f0b-4e1a-cc45-dfb3b734642d"
      },
      "outputs": [
        {
          "data": {
            "text/plain": [
              "(1, 100)"
            ]
          },
          "execution_count": 149,
          "metadata": {},
          "output_type": "execute_result"
        }
      ],
      "source": [
        "x_input=test_data[340:].reshape(1,-1)\n",
        "x_input.shape"
      ]
    },
    {
      "cell_type": "code",
      "execution_count": null,
      "metadata": {
        "id": "JqLH2NmAUn_-"
      },
      "outputs": [],
      "source": [
        "temp_input=list(x_input)\n",
        "temp_input=temp_input[0].tolist()"
      ]
    },
    {
      "cell_type": "markdown",
      "metadata": {
        "id": "pB8Ak9F6Un_-"
      },
      "source": [
        "# Demonstrate prediction for next 10 days"
      ]
    },
    {
      "cell_type": "code",
      "execution_count": null,
      "metadata": {
        "id": "wzjiA27gUn_-"
      },
      "outputs": [],
      "source": [
        "lst_output=[]\n",
        "n_steps=100\n",
        "i=0\n",
        "while(i<30):\n",
        "\n",
        "    if(len(temp_input)>100):\n",
        "\n",
        "        x_input=np.array(temp_input[1:])\n",
        "\n",
        "        x_input=x_input.reshape(1,-1)\n",
        "        x_input = x_input.reshape((1, n_steps, 1))\n",
        "\n",
        "        yhat = model.predict(x_input, verbose=0)\n",
        "\n",
        "        temp_input.extend(yhat[0].tolist())\n",
        "        temp_input=temp_input[1:]\n",
        "\n",
        "        lst_output.extend(yhat.tolist())\n",
        "        i=i+1\n",
        "    else:\n",
        "        x_input = x_input.reshape((1, n_steps,1))\n",
        "        yhat = model.predict(x_input, verbose=0)\n",
        "\n",
        "        temp_input.extend(yhat[0].tolist())\n",
        "\n",
        "        lst_output.extend(yhat.tolist())\n",
        "        i=i+1"
      ]
    },
    {
      "cell_type": "code",
      "execution_count": null,
      "metadata": {
        "id": "xLki0A5rUn__"
      },
      "outputs": [],
      "source": [
        "day_new=np.arange(1,101)\n",
        "day_pred=np.arange(101,131)"
      ]
    },
    {
      "cell_type": "code",
      "execution_count": null,
      "metadata": {
        "id": "7MoN1NRoUn__",
        "outputId": "8111f7cc-3972-47d5-b6ac-107478a4f4c2"
      },
      "outputs": [
        {
          "data": {
            "text/plain": [
              "1256"
            ]
          },
          "execution_count": 153,
          "metadata": {},
          "output_type": "execute_result"
        }
      ],
      "source": [
        "len(df1)"
      ]
    },
    {
      "cell_type": "code",
      "execution_count": null,
      "metadata": {
        "id": "rtFwH2DbUoAA",
        "outputId": "7cc30448-06c5-4921-fe60-2fb962398ede"
      },
      "outputs": [
        {
          "data": {
            "text/plain": [
              "[<matplotlib.lines.Line2D at 0x2d068b290>]"
            ]
          },
          "execution_count": 154,
          "metadata": {},
          "output_type": "execute_result"
        },
        {
          "data": {
            "image/png": "[encoded data removed]",
            "text/plain": [
              "<Figure size 640x480 with 1 Axes>"
            ]
          },
          "metadata": {},
          "output_type": "display_data"
        }
      ],
      "source": [
        "plt.plot(day_new,scaler.inverse_transform(df1[1156:]))\n",
        "plt.plot(day_pred,scaler.inverse_transform(lst_output))"
      ]
    },
    {
      "cell_type": "code",
      "execution_count": null,
      "metadata": {
        "id": "UHNkoP9qUoAA",
        "outputId": "2488a9c4-7d54-4f9e-e775-c5126cf1eb56"
      },
      "outputs": [
        {
          "data": {
            "text/plain": [
              "[<matplotlib.lines.Line2D at 0x2d0659650>]"
            ]
          },
          "execution_count": 155,
          "metadata": {},
          "output_type": "execute_result"
        },
        {
          "data": {
            "image/png": "[encoded data removed]",
            "text/plain": [
              "<Figure size 640x480 with 1 Axes>"
            ]
          },
          "metadata": {},
          "output_type": "display_data"
        }
      ],
      "source": [
        "df2=df1.tolist()\n",
        "df2.extend(lst_output)\n",
        "plt.plot(df2[1200:])"
      ]
    },
    {
      "cell_type": "code",
      "execution_count": null,
      "metadata": {
        "id": "ahZeDSWyUoAB"
      },
      "outputs": [],
      "source": []
    }
  ],
  "metadata": {
    "kernelspec": {
      "display_name": "venv",
      "language": "python",
      "name": "python3"
    },
    "language_info": {
      "codemirror_mode": {
        "name": "ipython",
        "version": 3
      },
      "file_extension": ".py",
      "mimetype": "text/x-python",
      "name": "python",
      "nbconvert_exporter": "python",
      "pygments_lexer": "ipython3",
      "version": "3.11.4"
    },
    "orig_nbformat": 4,
    "colab": {
      "provenance": [],
      "include_colab_link": true
    }
  },
  "nbformat": 4,
  "nbformat_minor": 0
}